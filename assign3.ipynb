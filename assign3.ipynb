{
 "cells": [
  {
   "cell_type": "markdown",
   "id": "1231877e-2e3b-4cb2-928d-038d89987b31",
   "metadata": {},
   "source": [
    "#1. Explain with an example each when to use a for loop and a while loop. \n",
    "\n",
    "A for loop is used when you want to repeat a block of code a specific number of times. For example, if you want to print the numbers 1 to 10, you could use a for loop like this:\n",
    "\n",
    "      for i in range(1, 11):\n",
    "      print(i)\n",
    "      \n",
    "A while loop is used when you want to repeat a block of code as long as a certain condition is true. For example, if you want to print the numbers 1 to 10, but only if a certain condition is met, you could use a while loop like this:    \n",
    "\n",
    "      i = 1\n",
    "     while i <= 10:\n",
    "     print(i)\n",
    "     i += 1\n",
    "     \n",
    " In this case, the loop will continue to run as long as i is less than or equal to 10. When i reaches 11, the condition will be false and the loop will stop.    \n",
    "  "
   ]
  },
  {
   "cell_type": "code",
   "execution_count": 1,
   "id": "088caa1b-e7a0-4526-83d1-1b8119f1d805",
   "metadata": {},
   "outputs": [
    {
     "name": "stdout",
     "output_type": "stream",
     "text": [
      "Sum: 55\n",
      "Product: 3628800\n"
     ]
    }
   ],
   "source": [
    "#2. Write a python program to print the sum and product of the first 10 natural numbers using for  and while loop. \n",
    "\n",
    "sum = 0\n",
    "product = 1\n",
    "\n",
    "for i in range(1, 11):\n",
    "    sum += i\n",
    "    product *= i\n",
    "\n",
    "print(\"Sum:\", sum)\n",
    "print(\"Product:\", product)\n"
   ]
  },
  {
   "cell_type": "code",
   "execution_count": 2,
   "id": "94a4b098-debb-4884-b0fe-d9d63ae498b1",
   "metadata": {},
   "outputs": [
    {
     "name": "stdout",
     "output_type": "stream",
     "text": [
      "Sum: 55\n",
      "Product: 3628800\n"
     ]
    }
   ],
   "source": [
    "sum = 0\n",
    "product = 1\n",
    "i = 1\n",
    "\n",
    "while i <= 10:\n",
    "    sum += i\n",
    "    product *= i\n",
    "    i += 1\n",
    "\n",
    "print(\"Sum:\", sum)\n",
    "print(\"Product:\", product)\n"
   ]
  },
  {
   "cell_type": "markdown",
   "id": "2b185b4b-2079-4d6b-91e0-675aa8d8ad41",
   "metadata": {},
   "source": [
    "#3. Create a python program to compute the electricity bill for a household. \n",
    "The per-unit charges in rupees are as follows: For the first 100 units, the user will be charged Rs. 4.5 per  unit, for the next 100 units, the user will be charged Rs. 6 per unit, and for the next 100 units, the user will  be charged Rs. 10 per unit, After 300 units and above the user will be charged Rs. 20 per unit. \n",
    "You are required to take the units of electricity consumed in a month from the user as input. \n"
   ]
  },
  {
   "cell_type": "code",
   "execution_count": 3,
   "id": "53e89b09-b97e-4946-bb47-5ba15e69119a",
   "metadata": {},
   "outputs": [
    {
     "name": "stdin",
     "output_type": "stream",
     "text": [
      "Enter the number of units consumed:  310\n"
     ]
    },
    {
     "name": "stdout",
     "output_type": "stream",
     "text": [
      "The electricity bill for the month is: Rs. 2250.0\n"
     ]
    }
   ],
   "source": [
    "units = int(input(\"Enter the number of units consumed: \"))\n",
    "\n",
    "if units <= 100:\n",
    "    bill = units * 4.5\n",
    "elif units <= 200:\n",
    "    bill = 100 * 4.5 + (units - 100) * 6\n",
    "elif units <= 300:\n",
    "    bill = 100 * 4.5 + 100 * 6 + (units - 200) * 10\n",
    "else:\n",
    "    bill = 100 * 4.5 + 100 * 6 + 100 * 10 + (units - 300) * 20\n",
    "\n",
    "print(\"The electricity bill for the month is: Rs.\", bill)\n"
   ]
  },
  {
   "cell_type": "code",
   "execution_count": 4,
   "id": "69825c76-11ed-45be-a79b-1f0875fea95d",
   "metadata": {},
   "outputs": [
    {
     "name": "stdout",
     "output_type": "stream",
     "text": [
      "The numbers whose cube is divisible by 4 or 5: [2, 4, 5, 6, 8, 10, 12, 14, 15, 16, 18, 20, 22, 24, 25, 26, 28, 30, 32, 34, 35, 36, 38, 40, 42, 44, 45, 46, 48, 50, 52, 54, 55, 56, 58, 60, 62, 64, 65, 66, 68, 70, 72, 74, 75, 76, 78, 80, 82, 84, 85, 86, 88, 90, 92, 94, 95, 96, 98, 100]\n"
     ]
    }
   ],
   "source": [
    "#4. Create a list of numbers from 1 to 100. Use for loop and while loop to calculate the cube of each  number and if the cube of that number is divisible by 4 or 5 then append that number in a list and print  that list. \n",
    "numbers = []\n",
    "for i in range(1, 101):\n",
    "    cube = i ** 3\n",
    "    if cube % 4 == 0 or cube % 5 == 0:\n",
    "        numbers.append(i)\n",
    "\n",
    "print(\"The numbers whose cube is divisible by 4 or 5:\", numbers)\n"
   ]
  },
  {
   "cell_type": "code",
   "execution_count": 5,
   "id": "b3599618-e0ac-465d-b432-00067ab0c032",
   "metadata": {},
   "outputs": [
    {
     "name": "stdout",
     "output_type": "stream",
     "text": [
      "The numbers whose cube is divisible by 4 or 5: [2, 4, 5, 6, 8, 10, 12, 14, 15, 16, 18, 20, 22, 24, 25, 26, 28, 30, 32, 34, 35, 36, 38, 40, 42, 44, 45, 46, 48, 50, 52, 54, 55, 56, 58, 60, 62, 64, 65, 66, 68, 70, 72, 74, 75, 76, 78, 80, 82, 84, 85, 86, 88, 90, 92, 94, 95, 96, 98, 100]\n"
     ]
    }
   ],
   "source": [
    "numbers = []\n",
    "i = 1\n",
    "while i <= 100:\n",
    "    cube = i ** 3\n",
    "    if cube % 4 == 0 or cube % 5 == 0:\n",
    "        numbers.append(i)\n",
    "    i += 1\n",
    "\n",
    "print(\"The numbers whose cube is divisible by 4 or 5:\", numbers)\n"
   ]
  },
  {
   "cell_type": "code",
   "execution_count": 6,
   "id": "c8d05f32-8281-4613-bb42-a078875666d0",
   "metadata": {},
   "outputs": [
    {
     "name": "stdout",
     "output_type": "stream",
     "text": [
      "The number of vowels in the string is: 12\n"
     ]
    }
   ],
   "source": [
    "#5.Write a program to filter count vowels in the below-given string. \n",
    "#string = \"I want to become a data scientist\" \n",
    "\n",
    "string = \"I want to become a data scientist\"\n",
    "vowels = \"AEIOUaeiou\"\n",
    "count = 0\n",
    "\n",
    "for char in string:\n",
    "    if char in vowels:\n",
    "        count += 1\n",
    "\n",
    "print(\"The number of vowels in the string is:\", count)\n"
   ]
  },
  {
   "cell_type": "code",
   "execution_count": null,
   "id": "49598dd9-1c34-4b51-9ae1-7db36d05b76b",
   "metadata": {},
   "outputs": [],
   "source": []
  }
 ],
 "metadata": {
  "kernelspec": {
   "display_name": "Python 3 (ipykernel)",
   "language": "python",
   "name": "python3"
  },
  "language_info": {
   "codemirror_mode": {
    "name": "ipython",
    "version": 3
   },
   "file_extension": ".py",
   "mimetype": "text/x-python",
   "name": "python",
   "nbconvert_exporter": "python",
   "pygments_lexer": "ipython3",
   "version": "3.10.8"
  }
 },
 "nbformat": 4,
 "nbformat_minor": 5
}
